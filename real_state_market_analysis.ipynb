{
 "cells": [
  {
   "cell_type": "markdown",
   "id": "34cae89c",
   "metadata": {},
   "source": [
    "# Exploratory Data Analysis: Rio de Janeiro Rental Market\n",
    "\n",
    "This notebook presents an exploratory analysis of the residential rental market in Rio de Janeiro using public data. The goal is to identify factors that influence prices, generate visualizations, and provide recommendations for investors and real estate clients."
   ]
  },
  {
   "cell_type": "code",
   "execution_count": null,
   "id": "faec7a48",
   "metadata": {},
   "outputs": [],
   "source": [
    "# Importação das bibliotecas principais\n",
    "import pandas as pd\n",
    "import matplotlib.pyplot as plt\n",
    "import seaborn as sns\n"
   ]
  },
  {
   "cell_type": "code",
   "execution_count": null,
   "id": "ec71d334",
   "metadata": {},
   "outputs": [],
   "source": [
    "# Carregamento do dataset\n",
    "csv_path = \"https://docs.google.com/spreadsheets/d/1rOF77iN8ZWRxaqCbZ-E3Mh0ord3uBb7kVQGPdD-GtZ4/export?format=csv\"\n",
    "sample_size = 10000\n",
    "df = pd.read_csv(csv_path, nrows=sample_size)\n",
    "df.head()"
   ]
  },
  {
   "cell_type": "markdown",
   "id": "2aa76f7c",
   "metadata": {},
   "source": [
    "## Data Cleaning and Treatment\n",
    "\n",
    "Removal of records without price, filling missing expenses, and analysis of null values."
   ]
  },
  {
   "cell_type": "code",
   "execution_count": null,
   "id": "ec86b5a8",
   "metadata": {},
   "outputs": [],
   "source": [
    "# Limpeza dos dados\n",
    "# Remove registros sem preço e preenche despesas ausentes\n",
    "\n",
    "df = df[df['price'].notnull()]\n",
    "if 'expenses' in df.columns:\n",
    "    df['expenses'] = df['expenses'].fillna(0)\n",
    "\n",
    "# Visualiza valores ausentes por coluna\n",
    "df.isnull().sum().sort_values(ascending=False)"
   ]
  },
  {
   "cell_type": "markdown",
   "id": "c12c8bec",
   "metadata": {},
   "source": [
    "## Exploratory Data Analysis and Visualizations\n",
    "\n",
    "This section generates charts to understand price distribution, the most expensive/cheapest neighborhoods, the relationship between bedrooms and price, and the proportion of pet-friendly and furnished properties."
   ]
  },
  {
   "cell_type": "code",
   "execution_count": null,
   "id": "e1fbd828",
   "metadata": {},
   "outputs": [],
   "source": [
    "# Histogram and boxplot of rental prices\n",
    "plt.figure(figsize=(10,4))\n",
    "df['price'].plot.hist(bins=50, color='skyblue')\n",
    "plt.title('Rental Price Distribution')\n",
    "plt.xlabel('Price')\n",
    "plt.show()\n",
    "\n",
    "plt.figure(figsize=(10,4))\n",
    "sns.boxplot(x=df['price'])\n",
    "plt.title('Rental Price Boxplot')\n",
    "plt.show()"
   ]
  },
  {
   "cell_type": "code",
   "execution_count": null,
   "id": "f03d7727",
   "metadata": {},
   "outputs": [],
   "source": [
    "# Top 5 most expensive/cheapest neighborhoods\n",
    "mean_price_by_bairro = df.groupby('place_name')['price'].mean().sort_values(ascending=False)\n",
    "top5_expensive = mean_price_by_bairro.head(5)\n",
    "top5_cheap = mean_price_by_bairro.tail(5)\n",
    "\n",
    "plt.figure(figsize=(8,4))\n",
    "top5_expensive.plot(kind='bar', color='crimson')\n",
    "plt.title('Top 5 Most Expensive Neighborhoods to Rent')\n",
    "plt.ylabel('Average Price')\n",
    "plt.xticks(rotation=45)\n",
    "plt.show()\n",
    "\n",
    "plt.figure(figsize=(8,4))\n",
    "top5_cheap.plot(kind='bar', color='seagreen')\n",
    "plt.title('Top 5 Cheapest Neighborhoods to Rent')\n",
    "plt.ylabel('Average Price')\n",
    "plt.xticks(rotation=45)\n",
    "plt.show()"
   ]
  },
  {
   "cell_type": "code",
   "execution_count": null,
   "id": "c1ab0548",
   "metadata": {},
   "outputs": [],
   "source": [
    "# Relationship between number of bedrooms and price\n",
    "plt.figure(figsize=(8,6))\n",
    "sns.scatterplot(x='rooms', y='price', data=df)\n",
    "plt.title('Relationship Between Number of Bedrooms and Price')\n",
    "plt.xlabel('Bedrooms')\n",
    "plt.ylabel('Price')\n",
    "plt.show()"
   ]
  },
  {
   "cell_type": "code",
   "execution_count": null,
   "id": "d2094205",
   "metadata": {},
   "outputs": [],
   "source": [
    "# Proportion of pet-friendly and furnished properties\n",
    "# Search for keywords in description\n",
    "df['pet_friendly'] = df['description'].str.contains('pet|animal', case=False, na=False)\n",
    "df['furnished'] = df['description'].str.contains('mobiliado|furnished', case=False, na=False)\n",
    "\n",
    "pet_counts = df['pet_friendly'].value_counts()\n",
    "furnished_counts = df['furnished'].value_counts()\n",
    "\n",
    "plt.figure(figsize=(5,5))\n",
    "pet_counts.plot.pie(autopct='%1.1f%%', labels=['No', 'Yes'], colors=['lightgray','gold'])\n",
    "plt.title('Proportion of Pet-Friendly Properties')\n",
    "plt.ylabel('')\n",
    "plt.show()\n",
    "\n",
    "plt.figure(figsize=(5,5))\n",
    "furnished_counts.plot.pie(autopct='%1.1f%%', labels=['No', 'Yes'], colors=['lightgray','skyblue'])\n",
    "plt.title('Proportion of Furnished Properties')\n",
    "plt.ylabel('')\n",
    "plt.show()"
   ]
  },
  {
   "cell_type": "markdown",
   "id": "710d9cc2",
   "metadata": {},
   "source": [
    "## Conclusions and Recommendations\n",
    "\n",
    "- Location is the main factor impacting rental price.\n",
    "- Properties with more bedrooms and features such as being furnished or pet-friendly tend to have higher value.\n",
    "- For investors, it is recommended to focus on neighborhoods with high demand and appreciation, as identified in the analysis."
   ]
  },
  {
   "cell_type": "code",
   "execution_count": null,
   "id": "b2cfc3d4",
   "metadata": {},
   "outputs": [],
   "source": [
    "# Heatmap of listing concentration\n",
    "# Generates map if location data is available\n",
    "\n",
    "df_map = df.dropna(subset=['lat','lon'])\n",
    "if not df_map.empty:\n",
    "    import folium\n",
    "    from folium.plugins import HeatMap\n",
    "    mapa = folium.Map(location=[-22.9, -43.2], zoom_start=11)\n",
    "    heat_data = [[row['lat'], row['lon']] for idx, row in df_map.iterrows()]\n",
    "    HeatMap(heat_data).add_to(mapa)\n",
    "    mapa.save('heatmap_concentration.html')\n",
    "    mapa"
   ]
  },
  {
   "cell_type": "markdown",
   "id": "66aa55a9",
   "metadata": {},
   "source": [
    "## How to Run the Interactive Dashboard\n",
    "\n",
    "To explore the data interactively, run the Streamlit dashboard:\n",
    "\n",
    "1. Install dependencies:\n",
    "   ```bash\n",
    "   pip install -r requirements.txt\n",
    "   ```\n",
    "2. Run the dashboard:\n",
    "   ```bash\n",
    "   streamlit run dashboard.py\n",
    "   ```\n",
    "3. Access the dashboard in your browser at the provided local URL.\n"
   ]
  }
 ],
 "metadata": {
  "language_info": {
   "name": "python"
  }
 },
 "nbformat": 4,
 "nbformat_minor": 5
}
